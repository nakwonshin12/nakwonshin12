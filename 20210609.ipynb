{
 "cells": [
  {
   "cell_type": "code",
   "execution_count": null,
   "id": "376131ba",
   "metadata": {},
   "outputs": [],
   "source": [
    "https://programmers.co.kr/learn/courses/30/lessons/43238\n",
    "\n",
    "n\ttimes\treturn\n",
    "6\t[7, 10]\t28"
   ]
  },
  {
   "cell_type": "code",
   "execution_count": null,
   "id": "04cb561b",
   "metadata": {},
   "outputs": [],
   "source": [
    "def solution(n, times):\n",
    "    for i in range(1, n):\n",
    "        "
   ]
  },
  {
   "cell_type": "code",
   "execution_count": null,
   "id": "89fb5412",
   "metadata": {},
   "outputs": [],
   "source": []
  },
  {
   "cell_type": "markdown",
   "id": "44e8eb84",
   "metadata": {},
   "source": [
    "imdb 데이터셋 예제"
   ]
  },
  {
   "cell_type": "code",
   "execution_count": 12,
   "id": "87e62076",
   "metadata": {},
   "outputs": [],
   "source": [
    "from tensorflow.keras.preprocessing import sequence\n",
    "from tensorflow.keras.datasets import imdb\n",
    "from tensorflow.keras.models import Sequential\n",
    "from tensorflow.keras.layers import Dense, Flatten, Embedding\n",
    "from tensorflow.keras import preprocessing\n",
    "\n",
    "import numpy\n",
    "import tensorflow as tf\n",
    "\n",
    "#seed 값 설정\n",
    "#seed = 0\n",
    "#numpy.random.seed(seed)\n",
    "#tf.random.set.seed(3)\n",
    "\n",
    "#학습셋, 테스트셋 지정하기\n",
    "(x_train, y_train),(x_test, y_test) = imdb.load_data(num_words = 5000)\n",
    "\n",
    "#데이터 전처리\n",
    "x_train = sequence.pad_sequences(x_train, maxlen = 100)\n",
    "x_test = sequence.pad_sequences(x_test, maxlen = 100)"
   ]
  },
  {
   "cell_type": "code",
   "execution_count": 13,
   "id": "20986d94",
   "metadata": {},
   "outputs": [
    {
     "name": "stdout",
     "output_type": "stream",
     "text": [
      "[   0    0    0    0    0    0    0    0    0    0    0    0    0    0\n",
      "    0    0    0    0    0    0    0    0    0    0    0    0    0    0\n",
      "    0    0    0    0    0    0    0    0    0    0    0    0    0    0\n",
      "    0    0    0    0    0    0    0    0    0    0    0    0    0    0\n",
      "    0    1  778  128   74   12  630  163   15    4 1766    2 1051    2\n",
      "   32   85  156   45   40  148  139  121  664  665   10   10 1361  173\n",
      "    4  749    2   16 3804    8    4  226   65   12   43  127   24    2\n",
      "   10   10] [0 1 0 ... 0 1 0]\n"
     ]
    },
    {
     "ename": "IndexError",
     "evalue": "too many indices for array: array is 1-dimensional, but 2 were indexed",
     "output_type": "error",
     "traceback": [
      "\u001b[1;31m---------------------------------------------------------------------------\u001b[0m",
      "\u001b[1;31mIndexError\u001b[0m                                Traceback (most recent call last)",
      "\u001b[1;32m<ipython-input-13-19fe90ec6718>\u001b[0m in \u001b[0;36m<module>\u001b[1;34m\u001b[0m\n\u001b[0;32m      1\u001b[0m \u001b[0mprint\u001b[0m\u001b[1;33m(\u001b[0m\u001b[0mx_train\u001b[0m\u001b[1;33m[\u001b[0m\u001b[1;36m5\u001b[0m\u001b[1;33m,\u001b[0m\u001b[1;33m:\u001b[0m\u001b[1;33m]\u001b[0m\u001b[1;33m,\u001b[0m \u001b[0my_train\u001b[0m\u001b[1;33m[\u001b[0m\u001b[1;36m5\u001b[0m\u001b[1;33m:\u001b[0m\u001b[1;33m,\u001b[0m\u001b[1;33m]\u001b[0m\u001b[1;33m)\u001b[0m\u001b[1;33m\u001b[0m\u001b[1;33m\u001b[0m\u001b[0m\n\u001b[1;32m----> 2\u001b[1;33m \u001b[0mprint\u001b[0m\u001b[1;33m(\u001b[0m\u001b[0mx_test\u001b[0m\u001b[1;33m[\u001b[0m\u001b[1;36m5\u001b[0m\u001b[1;33m,\u001b[0m\u001b[1;33m:\u001b[0m\u001b[1;33m]\u001b[0m\u001b[1;33m,\u001b[0m \u001b[0my_test\u001b[0m\u001b[1;33m[\u001b[0m\u001b[1;36m5\u001b[0m\u001b[1;33m,\u001b[0m\u001b[1;33m:\u001b[0m\u001b[1;33m]\u001b[0m\u001b[1;33m)\u001b[0m\u001b[1;33m\u001b[0m\u001b[1;33m\u001b[0m\u001b[0m\n\u001b[0m",
      "\u001b[1;31mIndexError\u001b[0m: too many indices for array: array is 1-dimensional, but 2 were indexed"
     ]
    }
   ],
   "source": [
    "print(x_train[5,:], y_train[5:,])\n",
    "print(x_test[5,:], y_test[5,:])"
   ]
  },
  {
   "cell_type": "code",
   "execution_count": 16,
   "id": "eb03d994",
   "metadata": {},
   "outputs": [
    {
     "ename": "ModuleNotFoundError",
     "evalue": "No module named 'tensorflow'",
     "output_type": "error",
     "traceback": [
      "\u001b[1;31m---------------------------------------------------------------------------\u001b[0m",
      "\u001b[1;31mModuleNotFoundError\u001b[0m                       Traceback (most recent call last)",
      "\u001b[1;32m<ipython-input-16-500c462e5e5e>\u001b[0m in \u001b[0;36m<module>\u001b[1;34m\u001b[0m\n\u001b[0;32m      1\u001b[0m \u001b[1;31m#모델 만들기\u001b[0m\u001b[1;33m\u001b[0m\u001b[1;33m\u001b[0m\u001b[1;33m\u001b[0m\u001b[0m\n\u001b[1;32m----> 2\u001b[1;33m \u001b[1;32mfrom\u001b[0m \u001b[0mtensorflow\u001b[0m\u001b[1;33m.\u001b[0m\u001b[0mkeras\u001b[0m\u001b[1;33m.\u001b[0m\u001b[0mmodels\u001b[0m \u001b[1;32mimport\u001b[0m \u001b[0mSequential\u001b[0m\u001b[1;33m\u001b[0m\u001b[1;33m\u001b[0m\u001b[0m\n\u001b[0m\u001b[0;32m      3\u001b[0m \u001b[1;32mfrom\u001b[0m \u001b[0mtensorflow\u001b[0m\u001b[1;33m.\u001b[0m\u001b[0mkeras\u001b[0m\u001b[1;33m.\u001b[0m\u001b[0mlayers\u001b[0m \u001b[1;32mimport\u001b[0m \u001b[0mDense\u001b[0m\u001b[1;33m,\u001b[0m \u001b[0mDropout\u001b[0m\u001b[1;33m,\u001b[0m \u001b[0mActivation\u001b[0m\u001b[1;33m\u001b[0m\u001b[1;33m\u001b[0m\u001b[0m\n\u001b[0;32m      4\u001b[0m \u001b[1;32mfrom\u001b[0m \u001b[0mtensorflow\u001b[0m\u001b[1;33m.\u001b[0m\u001b[0mkeras\u001b[0m\u001b[1;33m.\u001b[0m\u001b[0mlayers\u001b[0m \u001b[1;32mimport\u001b[0m \u001b[0mEmbedding\u001b[0m\u001b[1;33m\u001b[0m\u001b[1;33m\u001b[0m\u001b[0m\n\u001b[0;32m      5\u001b[0m \u001b[1;32mfrom\u001b[0m \u001b[0mtensorflow\u001b[0m\u001b[1;33m.\u001b[0m\u001b[0mkeras\u001b[0m\u001b[1;33m.\u001b[0m\u001b[0mlayers\u001b[0m \u001b[1;32mimport\u001b[0m \u001b[0mLSTM\u001b[0m\u001b[1;33m\u001b[0m\u001b[1;33m\u001b[0m\u001b[0m\n",
      "\u001b[1;31mModuleNotFoundError\u001b[0m: No module named 'tensorflow'"
     ]
    }
   ],
   "source": [
    "#모델 만들기\n",
    "from tensorflow.keras.models import Sequential\n",
    "from tensorflow.keras.layers import Dense, Dropout, Activation\n",
    "from tensorflow.keras.layers import Embedding\n",
    "from tensorflow.keras.layers import LSTM\n",
    "from tensorflow.keras.layers import Conv1D, MaxPooling1D\n",
    "\n",
    "model = Sequential()\n",
    "model.add(Embedding(input_dim = 5000, output_dim = 100)) #차원을 줄인다. \n",
    "model.add(Dropout(0.5))   \n",
    "#오버피팅을 줄인다. \n",
    "model.add(Conv1D(64, 5, padding = 'valid', activation = 'relu', strides = 1))\n",
    "#단어들의 중요도를 판단해 의미있는 단어들의 특징들을 뽑아낸다. \n",
    "model.add(MaxPooling1D(pool_size = 4))\n",
    "# 1/4로 줄인다. \n",
    "model.add(LSTM(55))\n",
    "model.add(Dense(1))\n",
    "model.add(Activation('sigmoid'))\n",
    "model.summary()\n",
    "\n",
    "#모델의 컴파일\n",
    "model.compile(loss = 'binary_crossentropy',\n",
    "             optimizer = 'adam',\n",
    "             metrics = ['accuracy'])"
   ]
  },
  {
   "cell_type": "code",
   "execution_count": 17,
   "id": "6e037da6",
   "metadata": {},
   "outputs": [
    {
     "name": "stdout",
     "output_type": "stream",
     "text": [
      "Epoch 1/50\n",
      "250/250 [==============================] - 14s 54ms/step - loss: 0.4540 - accuracy: 0.7734 - val_loss: 0.3451 - val_accuracy: 0.8425\n",
      "Epoch 2/50\n",
      "250/250 [==============================] - 13s 52ms/step - loss: 0.2951 - accuracy: 0.8768 - val_loss: 0.3574 - val_accuracy: 0.8432\n",
      "Epoch 3/50\n",
      "250/250 [==============================] - 13s 52ms/step - loss: 0.2489 - accuracy: 0.9013 - val_loss: 0.3386 - val_accuracy: 0.8522\n",
      "Epoch 4/50\n",
      "250/250 [==============================] - 13s 51ms/step - loss: 0.2155 - accuracy: 0.9146 - val_loss: 0.3539 - val_accuracy: 0.8520\n",
      "Epoch 5/50\n",
      "250/250 [==============================] - 13s 52ms/step - loss: 0.1839 - accuracy: 0.9276 - val_loss: 0.3620 - val_accuracy: 0.8543\n",
      "Epoch 6/50\n",
      "250/250 [==============================] - 13s 52ms/step - loss: 0.1514 - accuracy: 0.9430 - val_loss: 0.3925 - val_accuracy: 0.8484\n",
      "Epoch 7/50\n",
      "250/250 [==============================] - 13s 52ms/step - loss: 0.1263 - accuracy: 0.9531 - val_loss: 0.4429 - val_accuracy: 0.8478\n",
      "Epoch 8/50\n",
      "250/250 [==============================] - 13s 52ms/step - loss: 0.1019 - accuracy: 0.9639 - val_loss: 0.4805 - val_accuracy: 0.8468\n",
      "Epoch 9/50\n",
      "250/250 [==============================] - 13s 52ms/step - loss: 0.0857 - accuracy: 0.9688 - val_loss: 0.5290 - val_accuracy: 0.8430\n",
      "Epoch 10/50\n",
      "250/250 [==============================] - 13s 52ms/step - loss: 0.0717 - accuracy: 0.9746 - val_loss: 0.5246 - val_accuracy: 0.8437\n",
      "Epoch 11/50\n",
      "250/250 [==============================] - 13s 52ms/step - loss: 0.0620 - accuracy: 0.9774 - val_loss: 0.5727 - val_accuracy: 0.8432\n",
      "Epoch 12/50\n",
      "250/250 [==============================] - 13s 52ms/step - loss: 0.0613 - accuracy: 0.9782 - val_loss: 0.5675 - val_accuracy: 0.8437\n",
      "Epoch 13/50\n",
      "250/250 [==============================] - 13s 52ms/step - loss: 0.0523 - accuracy: 0.9808 - val_loss: 0.5741 - val_accuracy: 0.8445\n",
      "Epoch 14/50\n",
      "250/250 [==============================] - 13s 52ms/step - loss: 0.0433 - accuracy: 0.9850 - val_loss: 0.6528 - val_accuracy: 0.8419\n",
      "Epoch 15/50\n",
      "250/250 [==============================] - 13s 52ms/step - loss: 0.0388 - accuracy: 0.9864 - val_loss: 0.6751 - val_accuracy: 0.8425\n",
      "Epoch 16/50\n",
      "250/250 [==============================] - 13s 52ms/step - loss: 0.0383 - accuracy: 0.9868 - val_loss: 0.6795 - val_accuracy: 0.8386\n",
      "Epoch 17/50\n",
      "250/250 [==============================] - 13s 52ms/step - loss: 0.0395 - accuracy: 0.9860 - val_loss: 0.6259 - val_accuracy: 0.8407\n",
      "Epoch 18/50\n",
      "250/250 [==============================] - 13s 52ms/step - loss: 0.0331 - accuracy: 0.9885 - val_loss: 0.7349 - val_accuracy: 0.8420\n",
      "Epoch 19/50\n",
      "250/250 [==============================] - 13s 52ms/step - loss: 0.0319 - accuracy: 0.9886 - val_loss: 0.6791 - val_accuracy: 0.8410\n",
      "Epoch 20/50\n",
      "250/250 [==============================] - 13s 52ms/step - loss: 0.0305 - accuracy: 0.9888 - val_loss: 0.7457 - val_accuracy: 0.8372\n",
      "Epoch 21/50\n",
      "250/250 [==============================] - 13s 52ms/step - loss: 0.0297 - accuracy: 0.9897 - val_loss: 0.7770 - val_accuracy: 0.8398\n",
      "Epoch 22/50\n",
      "250/250 [==============================] - 13s 52ms/step - loss: 0.0306 - accuracy: 0.9888 - val_loss: 0.7013 - val_accuracy: 0.8416\n",
      "Epoch 23/50\n",
      "250/250 [==============================] - 13s 52ms/step - loss: 0.0282 - accuracy: 0.9901 - val_loss: 0.7103 - val_accuracy: 0.8399\n",
      "Epoch 24/50\n",
      "250/250 [==============================] - 13s 52ms/step - loss: 0.0255 - accuracy: 0.9914 - val_loss: 0.6812 - val_accuracy: 0.8417\n",
      "Epoch 25/50\n",
      "250/250 [==============================] - 13s 52ms/step - loss: 0.0231 - accuracy: 0.9922 - val_loss: 0.7059 - val_accuracy: 0.8409\n",
      "Epoch 26/50\n",
      "250/250 [==============================] - 13s 52ms/step - loss: 0.0224 - accuracy: 0.9915 - val_loss: 0.7717 - val_accuracy: 0.8412\n",
      "Epoch 27/50\n",
      "250/250 [==============================] - 13s 52ms/step - loss: 0.0225 - accuracy: 0.9925 - val_loss: 0.8419 - val_accuracy: 0.8391\n",
      "Epoch 28/50\n",
      "250/250 [==============================] - 13s 52ms/step - loss: 0.0240 - accuracy: 0.9916 - val_loss: 0.7865 - val_accuracy: 0.8407\n",
      "Epoch 29/50\n",
      "250/250 [==============================] - 13s 52ms/step - loss: 0.0200 - accuracy: 0.9934 - val_loss: 0.8153 - val_accuracy: 0.8394\n",
      "Epoch 30/50\n",
      "250/250 [==============================] - 13s 52ms/step - loss: 0.0203 - accuracy: 0.9932 - val_loss: 0.7883 - val_accuracy: 0.8385\n",
      "Epoch 31/50\n",
      "250/250 [==============================] - 13s 52ms/step - loss: 0.0207 - accuracy: 0.9931 - val_loss: 0.7871 - val_accuracy: 0.8436\n",
      "Epoch 32/50\n",
      "250/250 [==============================] - 13s 52ms/step - loss: 0.0199 - accuracy: 0.9927 - val_loss: 0.8507 - val_accuracy: 0.8358\n",
      "Epoch 33/50\n",
      "250/250 [==============================] - 13s 52ms/step - loss: 0.0168 - accuracy: 0.9942 - val_loss: 0.8413 - val_accuracy: 0.8420\n",
      "Epoch 34/50\n",
      "250/250 [==============================] - 13s 52ms/step - loss: 0.0181 - accuracy: 0.9934 - val_loss: 0.8048 - val_accuracy: 0.8423\n",
      "Epoch 35/50\n",
      "250/250 [==============================] - 13s 52ms/step - loss: 0.0194 - accuracy: 0.9933 - val_loss: 0.8443 - val_accuracy: 0.8402\n",
      "Epoch 36/50\n",
      "250/250 [==============================] - 13s 52ms/step - loss: 0.0182 - accuracy: 0.9937 - val_loss: 0.8491 - val_accuracy: 0.8406\n",
      "Epoch 37/50\n",
      "250/250 [==============================] - 13s 52ms/step - loss: 0.0185 - accuracy: 0.9939 - val_loss: 0.7834 - val_accuracy: 0.8446\n",
      "Epoch 38/50\n",
      "250/250 [==============================] - 13s 52ms/step - loss: 0.0180 - accuracy: 0.9935 - val_loss: 0.8234 - val_accuracy: 0.8415\n",
      "Epoch 39/50\n",
      "250/250 [==============================] - 13s 52ms/step - loss: 0.0175 - accuracy: 0.9934 - val_loss: 0.7729 - val_accuracy: 0.8437\n",
      "Epoch 40/50\n",
      "250/250 [==============================] - 13s 52ms/step - loss: 0.0154 - accuracy: 0.9943 - val_loss: 0.7803 - val_accuracy: 0.8421\n",
      "Epoch 41/50\n",
      "250/250 [==============================] - 13s 52ms/step - loss: 0.0169 - accuracy: 0.9936 - val_loss: 0.9327 - val_accuracy: 0.8418\n",
      "Epoch 42/50\n",
      "250/250 [==============================] - 13s 52ms/step - loss: 0.0192 - accuracy: 0.9930 - val_loss: 0.7901 - val_accuracy: 0.8427\n",
      "Epoch 43/50\n",
      "250/250 [==============================] - 13s 52ms/step - loss: 0.0164 - accuracy: 0.9939 - val_loss: 0.8289 - val_accuracy: 0.8468\n",
      "Epoch 44/50\n",
      "250/250 [==============================] - 13s 52ms/step - loss: 0.0128 - accuracy: 0.9951 - val_loss: 0.9137 - val_accuracy: 0.8430\n",
      "Epoch 45/50\n",
      "250/250 [==============================] - 13s 52ms/step - loss: 0.0157 - accuracy: 0.9947 - val_loss: 0.8955 - val_accuracy: 0.8430\n",
      "Epoch 46/50\n",
      "250/250 [==============================] - 13s 52ms/step - loss: 0.0158 - accuracy: 0.9942 - val_loss: 0.7828 - val_accuracy: 0.8410\n",
      "Epoch 47/50\n",
      "250/250 [==============================] - 13s 52ms/step - loss: 0.0143 - accuracy: 0.9950 - val_loss: 0.8602 - val_accuracy: 0.8416\n",
      "Epoch 48/50\n",
      "250/250 [==============================] - 12s 49ms/step - loss: 0.0159 - accuracy: 0.9942 - val_loss: 0.8256 - val_accuracy: 0.8424\n",
      "Epoch 49/50\n",
      "250/250 [==============================] - 12s 48ms/step - loss: 0.0127 - accuracy: 0.9956 - val_loss: 0.8456 - val_accuracy: 0.8409\n",
      "Epoch 50/50\n",
      "250/250 [==============================] - 12s 48ms/step - loss: 0.0156 - accuracy: 0.9945 - val_loss: 0.8250 - val_accuracy: 0.8366\n"
     ]
    }
   ],
   "source": [
    "history = model.fit(x_train, y_train, batch_size = 100, epochs = 50,\n",
    "                   validation_data = (x_test, y_test))"
   ]
  },
  {
   "cell_type": "code",
   "execution_count": 21,
   "id": "e1e5e411",
   "metadata": {},
   "outputs": [],
   "source": [
    "import numpy as np\n",
    "x = np.array([[1,2,3],[2,3,4],[4,5,6],[3,4,5],[4,5,6],[5,6,7]])\n",
    "y = np.array([4,5,6,7,8])\n",
    "\n",
    "raw_data = np.array([1,2,3,4,5,6,7,8])"
   ]
  },
  {
   "cell_type": "code",
   "execution_count": 27,
   "id": "0cc02c6d",
   "metadata": {},
   "outputs": [
    {
     "name": "stdout",
     "output_type": "stream",
     "text": [
      "Model: \"sequential_7\"\n",
      "_________________________________________________________________\n",
      "Layer (type)                 Output Shape              Param #   \n",
      "=================================================================\n",
      "lstm_6 (LSTM)                (None, 10)                480       \n",
      "_________________________________________________________________\n",
      "dense_6 (Dense)              (None, 5)                 55        \n",
      "_________________________________________________________________\n",
      "dense_7 (Dense)              (None, 1)                 6         \n",
      "=================================================================\n",
      "Total params: 541\n",
      "Trainable params: 541\n",
      "Non-trainable params: 0\n",
      "_________________________________________________________________\n"
     ]
    }
   ],
   "source": [
    "model = Sequential()\n",
    "model.add(LSTM(10, activation = 'relu', input_shape= (3,1)))\n",
    "model.add(Dense(5, activation = 'relu'))\n",
    "model.add(Dense(1, activation = 'relu'))\n",
    "\n",
    "model.summary()"
   ]
  },
  {
   "cell_type": "code",
   "execution_count": 28,
   "id": "a760bf7b",
   "metadata": {},
   "outputs": [
    {
     "ename": "ValueError",
     "evalue": "Data cardinality is ambiguous:\n  x sizes: 6\n  y sizes: 5\nPlease provide data which shares the same first dimension.",
     "output_type": "error",
     "traceback": [
      "\u001b[1;31m---------------------------------------------------------------------------\u001b[0m",
      "\u001b[1;31mValueError\u001b[0m                                Traceback (most recent call last)",
      "\u001b[1;32m<ipython-input-28-cb562a6effe2>\u001b[0m in \u001b[0;36m<module>\u001b[1;34m\u001b[0m\n\u001b[0;32m      1\u001b[0m \u001b[0mmodel\u001b[0m\u001b[1;33m.\u001b[0m\u001b[0mcompile\u001b[0m\u001b[1;33m(\u001b[0m\u001b[0moptimizer\u001b[0m \u001b[1;33m=\u001b[0m \u001b[1;34m'adam'\u001b[0m\u001b[1;33m,\u001b[0m\u001b[0mloss\u001b[0m \u001b[1;33m=\u001b[0m \u001b[1;34m'mse'\u001b[0m\u001b[1;33m)\u001b[0m\u001b[1;33m\u001b[0m\u001b[1;33m\u001b[0m\u001b[0m\n\u001b[0;32m      2\u001b[0m \u001b[0mx_input\u001b[0m \u001b[1;33m=\u001b[0m \u001b[0mx\u001b[0m\u001b[1;33m.\u001b[0m\u001b[0mreshape\u001b[0m\u001b[1;33m(\u001b[0m\u001b[1;33m(\u001b[0m\u001b[1;33m-\u001b[0m\u001b[1;36m1\u001b[0m\u001b[1;33m,\u001b[0m\u001b[1;36m3\u001b[0m\u001b[1;33m,\u001b[0m\u001b[1;36m1\u001b[0m\u001b[1;33m)\u001b[0m\u001b[1;33m)\u001b[0m\u001b[1;33m\u001b[0m\u001b[1;33m\u001b[0m\u001b[0m\n\u001b[1;32m----> 3\u001b[1;33m \u001b[0mmodel\u001b[0m\u001b[1;33m.\u001b[0m\u001b[0mfit\u001b[0m\u001b[1;33m(\u001b[0m\u001b[0mx_input\u001b[0m\u001b[1;33m,\u001b[0m \u001b[0my\u001b[0m\u001b[1;33m,\u001b[0m \u001b[0mepochs\u001b[0m \u001b[1;33m=\u001b[0m \u001b[1;36m10000\u001b[0m\u001b[1;33m,\u001b[0m \u001b[0mbatch_size\u001b[0m \u001b[1;33m=\u001b[0m\u001b[1;36m1\u001b[0m\u001b[1;33m,\u001b[0m \u001b[0mverbose\u001b[0m \u001b[1;33m=\u001b[0m \u001b[1;36m0\u001b[0m\u001b[1;33m)\u001b[0m\u001b[1;33m\u001b[0m\u001b[1;33m\u001b[0m\u001b[0m\n\u001b[0m\u001b[0;32m      4\u001b[0m \u001b[1;33m\u001b[0m\u001b[0m\n\u001b[0;32m      5\u001b[0m \u001b[0my_hat\u001b[0m \u001b[1;33m=\u001b[0m \u001b[0mmodel\u001b[0m\u001b[1;33m.\u001b[0m\u001b[0mpredict\u001b[0m\u001b[1;33m(\u001b[0m\u001b[1;33m[\u001b[0m\u001b[1;33m[\u001b[0m\u001b[1;33m[\u001b[0m\u001b[1;36m8\u001b[0m\u001b[1;33m]\u001b[0m\u001b[1;33m,\u001b[0m\u001b[1;33m[\u001b[0m\u001b[1;36m9\u001b[0m\u001b[1;33m]\u001b[0m\u001b[1;33m,\u001b[0m\u001b[1;33m[\u001b[0m\u001b[1;36m10\u001b[0m\u001b[1;33m]\u001b[0m\u001b[1;33m]\u001b[0m\u001b[1;33m]\u001b[0m\u001b[1;33m)\u001b[0m\u001b[1;33m\u001b[0m\u001b[1;33m\u001b[0m\u001b[0m\n",
      "\u001b[1;32m~\\.conda\\envs\\tf23\\lib\\site-packages\\tensorflow\\python\\keras\\engine\\training.py\u001b[0m in \u001b[0;36m_method_wrapper\u001b[1;34m(self, *args, **kwargs)\u001b[0m\n\u001b[0;32m    106\u001b[0m   \u001b[1;32mdef\u001b[0m \u001b[0m_method_wrapper\u001b[0m\u001b[1;33m(\u001b[0m\u001b[0mself\u001b[0m\u001b[1;33m,\u001b[0m \u001b[1;33m*\u001b[0m\u001b[0margs\u001b[0m\u001b[1;33m,\u001b[0m \u001b[1;33m**\u001b[0m\u001b[0mkwargs\u001b[0m\u001b[1;33m)\u001b[0m\u001b[1;33m:\u001b[0m\u001b[1;33m\u001b[0m\u001b[1;33m\u001b[0m\u001b[0m\n\u001b[0;32m    107\u001b[0m     \u001b[1;32mif\u001b[0m \u001b[1;32mnot\u001b[0m \u001b[0mself\u001b[0m\u001b[1;33m.\u001b[0m\u001b[0m_in_multi_worker_mode\u001b[0m\u001b[1;33m(\u001b[0m\u001b[1;33m)\u001b[0m\u001b[1;33m:\u001b[0m  \u001b[1;31m# pylint: disable=protected-access\u001b[0m\u001b[1;33m\u001b[0m\u001b[1;33m\u001b[0m\u001b[0m\n\u001b[1;32m--> 108\u001b[1;33m       \u001b[1;32mreturn\u001b[0m \u001b[0mmethod\u001b[0m\u001b[1;33m(\u001b[0m\u001b[0mself\u001b[0m\u001b[1;33m,\u001b[0m \u001b[1;33m*\u001b[0m\u001b[0margs\u001b[0m\u001b[1;33m,\u001b[0m \u001b[1;33m**\u001b[0m\u001b[0mkwargs\u001b[0m\u001b[1;33m)\u001b[0m\u001b[1;33m\u001b[0m\u001b[1;33m\u001b[0m\u001b[0m\n\u001b[0m\u001b[0;32m    109\u001b[0m \u001b[1;33m\u001b[0m\u001b[0m\n\u001b[0;32m    110\u001b[0m     \u001b[1;31m# Running inside `run_distribute_coordinator` already.\u001b[0m\u001b[1;33m\u001b[0m\u001b[1;33m\u001b[0m\u001b[1;33m\u001b[0m\u001b[0m\n",
      "\u001b[1;32m~\\.conda\\envs\\tf23\\lib\\site-packages\\tensorflow\\python\\keras\\engine\\training.py\u001b[0m in \u001b[0;36mfit\u001b[1;34m(self, x, y, batch_size, epochs, verbose, callbacks, validation_split, validation_data, shuffle, class_weight, sample_weight, initial_epoch, steps_per_epoch, validation_steps, validation_batch_size, validation_freq, max_queue_size, workers, use_multiprocessing)\u001b[0m\n\u001b[0;32m   1047\u001b[0m          \u001b[0mtraining_utils\u001b[0m\u001b[1;33m.\u001b[0m\u001b[0mRespectCompiledTrainableState\u001b[0m\u001b[1;33m(\u001b[0m\u001b[0mself\u001b[0m\u001b[1;33m)\u001b[0m\u001b[1;33m:\u001b[0m\u001b[1;33m\u001b[0m\u001b[1;33m\u001b[0m\u001b[0m\n\u001b[0;32m   1048\u001b[0m       \u001b[1;31m# Creates a `tf.data.Dataset` and handles batch and epoch iteration.\u001b[0m\u001b[1;33m\u001b[0m\u001b[1;33m\u001b[0m\u001b[1;33m\u001b[0m\u001b[0m\n\u001b[1;32m-> 1049\u001b[1;33m       data_handler = data_adapter.DataHandler(\n\u001b[0m\u001b[0;32m   1050\u001b[0m           \u001b[0mx\u001b[0m\u001b[1;33m=\u001b[0m\u001b[0mx\u001b[0m\u001b[1;33m,\u001b[0m\u001b[1;33m\u001b[0m\u001b[1;33m\u001b[0m\u001b[0m\n\u001b[0;32m   1051\u001b[0m           \u001b[0my\u001b[0m\u001b[1;33m=\u001b[0m\u001b[0my\u001b[0m\u001b[1;33m,\u001b[0m\u001b[1;33m\u001b[0m\u001b[1;33m\u001b[0m\u001b[0m\n",
      "\u001b[1;32m~\\.conda\\envs\\tf23\\lib\\site-packages\\tensorflow\\python\\keras\\engine\\data_adapter.py\u001b[0m in \u001b[0;36m__init__\u001b[1;34m(self, x, y, sample_weight, batch_size, steps_per_epoch, initial_epoch, epochs, shuffle, class_weight, max_queue_size, workers, use_multiprocessing, model, steps_per_execution)\u001b[0m\n\u001b[0;32m   1103\u001b[0m \u001b[1;33m\u001b[0m\u001b[0m\n\u001b[0;32m   1104\u001b[0m     \u001b[0madapter_cls\u001b[0m \u001b[1;33m=\u001b[0m \u001b[0mselect_data_adapter\u001b[0m\u001b[1;33m(\u001b[0m\u001b[0mx\u001b[0m\u001b[1;33m,\u001b[0m \u001b[0my\u001b[0m\u001b[1;33m)\u001b[0m\u001b[1;33m\u001b[0m\u001b[1;33m\u001b[0m\u001b[0m\n\u001b[1;32m-> 1105\u001b[1;33m     self._adapter = adapter_cls(\n\u001b[0m\u001b[0;32m   1106\u001b[0m         \u001b[0mx\u001b[0m\u001b[1;33m,\u001b[0m\u001b[1;33m\u001b[0m\u001b[1;33m\u001b[0m\u001b[0m\n\u001b[0;32m   1107\u001b[0m         \u001b[0my\u001b[0m\u001b[1;33m,\u001b[0m\u001b[1;33m\u001b[0m\u001b[1;33m\u001b[0m\u001b[0m\n",
      "\u001b[1;32m~\\.conda\\envs\\tf23\\lib\\site-packages\\tensorflow\\python\\keras\\engine\\data_adapter.py\u001b[0m in \u001b[0;36m__init__\u001b[1;34m(self, x, y, sample_weights, sample_weight_modes, batch_size, epochs, steps, shuffle, **kwargs)\u001b[0m\n\u001b[0;32m    280\u001b[0m             label, \", \".join(str(i.shape[0]) for i in nest.flatten(data)))\n\u001b[0;32m    281\u001b[0m       \u001b[0mmsg\u001b[0m \u001b[1;33m+=\u001b[0m \u001b[1;34m\"Please provide data which shares the same first dimension.\"\u001b[0m\u001b[1;33m\u001b[0m\u001b[1;33m\u001b[0m\u001b[0m\n\u001b[1;32m--> 282\u001b[1;33m       \u001b[1;32mraise\u001b[0m \u001b[0mValueError\u001b[0m\u001b[1;33m(\u001b[0m\u001b[0mmsg\u001b[0m\u001b[1;33m)\u001b[0m\u001b[1;33m\u001b[0m\u001b[1;33m\u001b[0m\u001b[0m\n\u001b[0m\u001b[0;32m    283\u001b[0m     \u001b[0mnum_samples\u001b[0m \u001b[1;33m=\u001b[0m \u001b[0mnum_samples\u001b[0m\u001b[1;33m.\u001b[0m\u001b[0mpop\u001b[0m\u001b[1;33m(\u001b[0m\u001b[1;33m)\u001b[0m\u001b[1;33m\u001b[0m\u001b[1;33m\u001b[0m\u001b[0m\n\u001b[0;32m    284\u001b[0m \u001b[1;33m\u001b[0m\u001b[0m\n",
      "\u001b[1;31mValueError\u001b[0m: Data cardinality is ambiguous:\n  x sizes: 6\n  y sizes: 5\nPlease provide data which shares the same first dimension."
     ]
    }
   ],
   "source": [
    "model.compile(optimizer = 'adam',loss = 'mse')\n",
    "x_input = x.reshape((-1,3,1))\n",
    "model.fit(x_input, y, epochs = 10000, batch_size =1, verbose = 0)\n",
    "\n",
    "y_hat = model.predict([[[8],[9],[10]]])\n",
    "print(y_hat)"
   ]
  },
  {
   "cell_type": "markdown",
   "id": "41582c87",
   "metadata": {},
   "source": [
    "모델 만들기"
   ]
  },
  {
   "cell_type": "code",
   "execution_count": 11,
   "id": "79435207",
   "metadata": {},
   "outputs": [
    {
     "name": "stdout",
     "output_type": "stream",
     "text": [
      "[0.40160273 0.33448216 0.2550371  0.42960505 0.54203345 0.75649014\n",
      " 0.82426923 0.65040557 0.5711837  0.58553881 0.4630838  0.37170501\n",
      " 0.39644254 0.3624839  0.72397711 0.86075803 0.48138398 0.55676057\n",
      " 0.64855247 0.64359359 0.29000554 0.         0.47680482 0.82535245\n",
      " 0.75590889 0.82644051 0.56073214 0.46181926 0.66050757 0.68499427\n",
      " 0.60608427 0.00773071 0.19390357 0.46548435 0.56494268 0.43252691\n",
      " 0.26025608 0.49403699 0.4824472  0.54641672 0.60572704 1.\n",
      " 0.67629467 0.43189044 0.32231853 0.63027556 0.63355751 0.4186323\n",
      " 0.68833549 0.41932664 0.41900044 0.15944577 0.67236957 0.81320102\n",
      " 0.95283755 0.94269349 0.49941507 0.26179418 0.28839411 0.37559702\n",
      " 0.58758042 0.65839472 0.46471949 0.1000025  0.1884854  0.54737288\n",
      " 0.64639981 0.84172234 0.60110939 0.20952573 0.13239344 0.64869623\n",
      " 0.67245234 0.38324134 0.49855104 0.40506692 0.35432807 0.29751062\n",
      " 0.3006426  0.42264101 0.57225329 0.10508642 0.44468705 0.83441295\n",
      " 0.7765112  0.64990411 0.61518239 0.28309313 0.51226536 0.16462032\n",
      " 0.23170944 0.36348322 0.45192164 0.72810397 0.83474577 0.37757829\n",
      " 0.27975    0.57290752 0.41107965 0.4265855 ]\n"
     ]
    },
    {
     "data": {
      "image/png": "[encoded data removed]",
      "text/plain": [
       "<Figure size 432x288 with 1 Axes>"
      ]
     },
     "metadata": {
      "needs_background": "light"
     },
     "output_type": "display_data"
    }
   ],
   "source": [
    "import matplotlib.pyplot as plt\n",
    "np.random.seed(777)\n",
    "x = np.random.normal(0,1,100)\n",
    "e = np.random.normal(0,1,100)\n",
    "\n",
    "x[2] = 0.5*x[1]-0.3*x[0]+e[2]\n",
    "for i in range(2, 100):\n",
    "    x[i] = 0.5*x[i-1]-0.3*x[i-2]+e[i]\n",
    "    \n",
    "x = (x-min(x))/(max(x)-min(x))\n",
    "print(x) \n",
    "plt.plot(range(100), x, 'ro-')\n",
    "plt.show()"
   ]
  },
  {
   "cell_type": "code",
   "execution_count": 13,
   "id": "75d96bfc",
   "metadata": {},
   "outputs": [
    {
     "name": "stdout",
     "output_type": "stream",
     "text": [
      "[[0.40160273 0.33448216 0.2550371  0.42960505 0.54203345 0.75649014\n",
      "  0.82426923 0.65040557 0.5711837  0.58553881]\n",
      " [0.33448216 0.2550371  0.42960505 0.54203345 0.75649014 0.82426923\n",
      "  0.65040557 0.5711837  0.58553881 0.4630838 ]\n",
      " [0.2550371  0.42960505 0.54203345 0.75649014 0.82426923 0.65040557\n",
      "  0.5711837  0.58553881 0.4630838  0.37170501]\n",
      " [0.42960505 0.54203345 0.75649014 0.82426923 0.65040557 0.5711837\n",
      "  0.58553881 0.4630838  0.37170501 0.39644254]\n",
      " [0.54203345 0.75649014 0.82426923 0.65040557 0.5711837  0.58553881\n",
      "  0.4630838  0.37170501 0.39644254 0.3624839 ]\n",
      " [0.75649014 0.82426923 0.65040557 0.5711837  0.58553881 0.4630838\n",
      "  0.37170501 0.39644254 0.3624839  0.72397711]\n",
      " [0.82426923 0.65040557 0.5711837  0.58553881 0.4630838  0.37170501\n",
      "  0.39644254 0.3624839  0.72397711 0.86075803]\n",
      " [0.65040557 0.5711837  0.58553881 0.4630838  0.37170501 0.39644254\n",
      "  0.3624839  0.72397711 0.86075803 0.48138398]\n",
      " [0.5711837  0.58553881 0.4630838  0.37170501 0.39644254 0.3624839\n",
      "  0.72397711 0.86075803 0.48138398 0.55676057]\n",
      " [0.58553881 0.4630838  0.37170501 0.39644254 0.3624839  0.72397711\n",
      "  0.86075803 0.48138398 0.55676057 0.64855247]\n",
      " [0.4630838  0.37170501 0.39644254 0.3624839  0.72397711 0.86075803\n",
      "  0.48138398 0.55676057 0.64855247 0.64359359]\n",
      " [0.37170501 0.39644254 0.3624839  0.72397711 0.86075803 0.48138398\n",
      "  0.55676057 0.64855247 0.64359359 0.29000554]\n",
      " [0.39644254 0.3624839  0.72397711 0.86075803 0.48138398 0.55676057\n",
      "  0.64855247 0.64359359 0.29000554 0.        ]\n",
      " [0.3624839  0.72397711 0.86075803 0.48138398 0.55676057 0.64855247\n",
      "  0.64359359 0.29000554 0.         0.47680482]\n",
      " [0.72397711 0.86075803 0.48138398 0.55676057 0.64855247 0.64359359\n",
      "  0.29000554 0.         0.47680482 0.82535245]\n",
      " [0.86075803 0.48138398 0.55676057 0.64855247 0.64359359 0.29000554\n",
      "  0.         0.47680482 0.82535245 0.75590889]\n",
      " [0.48138398 0.55676057 0.64855247 0.64359359 0.29000554 0.\n",
      "  0.47680482 0.82535245 0.75590889 0.82644051]\n",
      " [0.55676057 0.64855247 0.64359359 0.29000554 0.         0.47680482\n",
      "  0.82535245 0.75590889 0.82644051 0.56073214]\n",
      " [0.64855247 0.64359359 0.29000554 0.         0.47680482 0.82535245\n",
      "  0.75590889 0.82644051 0.56073214 0.46181926]\n",
      " [0.64359359 0.29000554 0.         0.47680482 0.82535245 0.75590889\n",
      "  0.82644051 0.56073214 0.46181926 0.66050757]\n",
      " [0.29000554 0.         0.47680482 0.82535245 0.75590889 0.82644051\n",
      "  0.56073214 0.46181926 0.66050757 0.68499427]\n",
      " [0.         0.47680482 0.82535245 0.75590889 0.82644051 0.56073214\n",
      "  0.46181926 0.66050757 0.68499427 0.60608427]\n",
      " [0.47680482 0.82535245 0.75590889 0.82644051 0.56073214 0.46181926\n",
      "  0.66050757 0.68499427 0.60608427 0.00773071]\n",
      " [0.82535245 0.75590889 0.82644051 0.56073214 0.46181926 0.66050757\n",
      "  0.68499427 0.60608427 0.00773071 0.19390357]\n",
      " [0.75590889 0.82644051 0.56073214 0.46181926 0.66050757 0.68499427\n",
      "  0.60608427 0.00773071 0.19390357 0.46548435]\n",
      " [0.82644051 0.56073214 0.46181926 0.66050757 0.68499427 0.60608427\n",
      "  0.00773071 0.19390357 0.46548435 0.56494268]\n",
      " [0.56073214 0.46181926 0.66050757 0.68499427 0.60608427 0.00773071\n",
      "  0.19390357 0.46548435 0.56494268 0.43252691]\n",
      " [0.46181926 0.66050757 0.68499427 0.60608427 0.00773071 0.19390357\n",
      "  0.46548435 0.56494268 0.43252691 0.26025608]\n",
      " [0.66050757 0.68499427 0.60608427 0.00773071 0.19390357 0.46548435\n",
      "  0.56494268 0.43252691 0.26025608 0.49403699]\n",
      " [0.68499427 0.60608427 0.00773071 0.19390357 0.46548435 0.56494268\n",
      "  0.43252691 0.26025608 0.49403699 0.4824472 ]\n",
      " [0.60608427 0.00773071 0.19390357 0.46548435 0.56494268 0.43252691\n",
      "  0.26025608 0.49403699 0.4824472  0.54641672]\n",
      " [0.00773071 0.19390357 0.46548435 0.56494268 0.43252691 0.26025608\n",
      "  0.49403699 0.4824472  0.54641672 0.60572704]\n",
      " [0.19390357 0.46548435 0.56494268 0.43252691 0.26025608 0.49403699\n",
      "  0.4824472  0.54641672 0.60572704 1.        ]\n",
      " [0.46548435 0.56494268 0.43252691 0.26025608 0.49403699 0.4824472\n",
      "  0.54641672 0.60572704 1.         0.67629467]\n",
      " [0.56494268 0.43252691 0.26025608 0.49403699 0.4824472  0.54641672\n",
      "  0.60572704 1.         0.67629467 0.43189044]\n",
      " [0.43252691 0.26025608 0.49403699 0.4824472  0.54641672 0.60572704\n",
      "  1.         0.67629467 0.43189044 0.32231853]\n",
      " [0.26025608 0.49403699 0.4824472  0.54641672 0.60572704 1.\n",
      "  0.67629467 0.43189044 0.32231853 0.63027556]\n",
      " [0.49403699 0.4824472  0.54641672 0.60572704 1.         0.67629467\n",
      "  0.43189044 0.32231853 0.63027556 0.63355751]\n",
      " [0.4824472  0.54641672 0.60572704 1.         0.67629467 0.43189044\n",
      "  0.32231853 0.63027556 0.63355751 0.4186323 ]\n",
      " [0.54641672 0.60572704 1.         0.67629467 0.43189044 0.32231853\n",
      "  0.63027556 0.63355751 0.4186323  0.68833549]\n",
      " [0.60572704 1.         0.67629467 0.43189044 0.32231853 0.63027556\n",
      "  0.63355751 0.4186323  0.68833549 0.41932664]\n",
      " [1.         0.67629467 0.43189044 0.32231853 0.63027556 0.63355751\n",
      "  0.4186323  0.68833549 0.41932664 0.41900044]\n",
      " [0.67629467 0.43189044 0.32231853 0.63027556 0.63355751 0.4186323\n",
      "  0.68833549 0.41932664 0.41900044 0.15944577]\n",
      " [0.43189044 0.32231853 0.63027556 0.63355751 0.4186323  0.68833549\n",
      "  0.41932664 0.41900044 0.15944577 0.67236957]\n",
      " [0.32231853 0.63027556 0.63355751 0.4186323  0.68833549 0.41932664\n",
      "  0.41900044 0.15944577 0.67236957 0.81320102]\n",
      " [0.63027556 0.63355751 0.4186323  0.68833549 0.41932664 0.41900044\n",
      "  0.15944577 0.67236957 0.81320102 0.95283755]\n",
      " [0.63355751 0.4186323  0.68833549 0.41932664 0.41900044 0.15944577\n",
      "  0.67236957 0.81320102 0.95283755 0.94269349]\n",
      " [0.4186323  0.68833549 0.41932664 0.41900044 0.15944577 0.67236957\n",
      "  0.81320102 0.95283755 0.94269349 0.49941507]\n",
      " [0.68833549 0.41932664 0.41900044 0.15944577 0.67236957 0.81320102\n",
      "  0.95283755 0.94269349 0.49941507 0.26179418]\n",
      " [0.41932664 0.41900044 0.15944577 0.67236957 0.81320102 0.95283755\n",
      "  0.94269349 0.49941507 0.26179418 0.28839411]\n",
      " [0.41900044 0.15944577 0.67236957 0.81320102 0.95283755 0.94269349\n",
      "  0.49941507 0.26179418 0.28839411 0.37559702]\n",
      " [0.15944577 0.67236957 0.81320102 0.95283755 0.94269349 0.49941507\n",
      "  0.26179418 0.28839411 0.37559702 0.58758042]\n",
      " [0.67236957 0.81320102 0.95283755 0.94269349 0.49941507 0.26179418\n",
      "  0.28839411 0.37559702 0.58758042 0.65839472]\n",
      " [0.81320102 0.95283755 0.94269349 0.49941507 0.26179418 0.28839411\n",
      "  0.37559702 0.58758042 0.65839472 0.46471949]\n",
      " [0.95283755 0.94269349 0.49941507 0.26179418 0.28839411 0.37559702\n",
      "  0.58758042 0.65839472 0.46471949 0.1000025 ]\n",
      " [0.94269349 0.49941507 0.26179418 0.28839411 0.37559702 0.58758042\n",
      "  0.65839472 0.46471949 0.1000025  0.1884854 ]\n",
      " [0.49941507 0.26179418 0.28839411 0.37559702 0.58758042 0.65839472\n",
      "  0.46471949 0.1000025  0.1884854  0.54737288]\n",
      " [0.26179418 0.28839411 0.37559702 0.58758042 0.65839472 0.46471949\n",
      "  0.1000025  0.1884854  0.54737288 0.64639981]\n",
      " [0.28839411 0.37559702 0.58758042 0.65839472 0.46471949 0.1000025\n",
      "  0.1884854  0.54737288 0.64639981 0.84172234]\n",
      " [0.37559702 0.58758042 0.65839472 0.46471949 0.1000025  0.1884854\n",
      "  0.54737288 0.64639981 0.84172234 0.60110939]\n",
      " [0.58758042 0.65839472 0.46471949 0.1000025  0.1884854  0.54737288\n",
      "  0.64639981 0.84172234 0.60110939 0.20952573]\n",
      " [0.65839472 0.46471949 0.1000025  0.1884854  0.54737288 0.64639981\n",
      "  0.84172234 0.60110939 0.20952573 0.13239344]\n",
      " [0.46471949 0.1000025  0.1884854  0.54737288 0.64639981 0.84172234\n",
      "  0.60110939 0.20952573 0.13239344 0.64869623]\n",
      " [0.1000025  0.1884854  0.54737288 0.64639981 0.84172234 0.60110939\n",
      "  0.20952573 0.13239344 0.64869623 0.67245234]\n",
      " [0.1884854  0.54737288 0.64639981 0.84172234 0.60110939 0.20952573\n",
      "  0.13239344 0.64869623 0.67245234 0.38324134]\n",
      " [0.54737288 0.64639981 0.84172234 0.60110939 0.20952573 0.13239344\n",
      "  0.64869623 0.67245234 0.38324134 0.49855104]\n",
      " [0.64639981 0.84172234 0.60110939 0.20952573 0.13239344 0.64869623\n",
      "  0.67245234 0.38324134 0.49855104 0.40506692]\n",
      " [0.84172234 0.60110939 0.20952573 0.13239344 0.64869623 0.67245234\n",
      "  0.38324134 0.49855104 0.40506692 0.35432807]\n",
      " [0.60110939 0.20952573 0.13239344 0.64869623 0.67245234 0.38324134\n",
      "  0.49855104 0.40506692 0.35432807 0.29751062]\n",
      " [0.20952573 0.13239344 0.64869623 0.67245234 0.38324134 0.49855104\n",
      "  0.40506692 0.35432807 0.29751062 0.3006426 ]\n",
      " [0.13239344 0.64869623 0.67245234 0.38324134 0.49855104 0.40506692\n",
      "  0.35432807 0.29751062 0.3006426  0.42264101]\n",
      " [0.64869623 0.67245234 0.38324134 0.49855104 0.40506692 0.35432807\n",
      "  0.29751062 0.3006426  0.42264101 0.57225329]\n",
      " [0.67245234 0.38324134 0.49855104 0.40506692 0.35432807 0.29751062\n",
      "  0.3006426  0.42264101 0.57225329 0.10508642]\n",
      " [0.38324134 0.49855104 0.40506692 0.35432807 0.29751062 0.3006426\n",
      "  0.42264101 0.57225329 0.10508642 0.44468705]\n",
      " [0.49855104 0.40506692 0.35432807 0.29751062 0.3006426  0.42264101\n",
      "  0.57225329 0.10508642 0.44468705 0.83441295]\n",
      " [0.40506692 0.35432807 0.29751062 0.3006426  0.42264101 0.57225329\n",
      "  0.10508642 0.44468705 0.83441295 0.7765112 ]\n",
      " [0.35432807 0.29751062 0.3006426  0.42264101 0.57225329 0.10508642\n",
      "  0.44468705 0.83441295 0.7765112  0.64990411]\n",
      " [0.29751062 0.3006426  0.42264101 0.57225329 0.10508642 0.44468705\n",
      "  0.83441295 0.7765112  0.64990411 0.61518239]\n",
      " [0.3006426  0.42264101 0.57225329 0.10508642 0.44468705 0.83441295\n",
      "  0.7765112  0.64990411 0.61518239 0.28309313]\n",
      " [0.42264101 0.57225329 0.10508642 0.44468705 0.83441295 0.7765112\n",
      "  0.64990411 0.61518239 0.28309313 0.51226536]\n",
      " [0.57225329 0.10508642 0.44468705 0.83441295 0.7765112  0.64990411\n",
      "  0.61518239 0.28309313 0.51226536 0.16462032]\n",
      " [0.10508642 0.44468705 0.83441295 0.7765112  0.64990411 0.61518239\n",
      "  0.28309313 0.51226536 0.16462032 0.23170944]\n",
      " [0.44468705 0.83441295 0.7765112  0.64990411 0.61518239 0.28309313\n",
      "  0.51226536 0.16462032 0.23170944 0.36348322]\n",
      " [0.83441295 0.7765112  0.64990411 0.61518239 0.28309313 0.51226536\n",
      "  0.16462032 0.23170944 0.36348322 0.45192164]\n",
      " [0.7765112  0.64990411 0.61518239 0.28309313 0.51226536 0.16462032\n",
      "  0.23170944 0.36348322 0.45192164 0.72810397]\n",
      " [0.64990411 0.61518239 0.28309313 0.51226536 0.16462032 0.23170944\n",
      "  0.36348322 0.45192164 0.72810397 0.83474577]\n",
      " [0.61518239 0.28309313 0.51226536 0.16462032 0.23170944 0.36348322\n",
      "  0.45192164 0.72810397 0.83474577 0.37757829]\n",
      " [0.28309313 0.51226536 0.16462032 0.23170944 0.36348322 0.45192164\n",
      "  0.72810397 0.83474577 0.37757829 0.27975   ]\n",
      " [0.51226536 0.16462032 0.23170944 0.36348322 0.45192164 0.72810397\n",
      "  0.83474577 0.37757829 0.27975    0.57290752]\n",
      " [0.16462032 0.23170944 0.36348322 0.45192164 0.72810397 0.83474577\n",
      "  0.37757829 0.27975    0.57290752 0.41107965]]\n",
      "[0.4630838  0.37170501 0.39644254 0.3624839  0.72397711 0.86075803\n",
      " 0.48138398 0.55676057 0.64855247 0.64359359 0.29000554 0.\n",
      " 0.47680482 0.82535245 0.75590889 0.82644051 0.56073214 0.46181926\n",
      " 0.66050757 0.68499427 0.60608427 0.00773071 0.19390357 0.46548435\n",
      " 0.56494268 0.43252691 0.26025608 0.49403699 0.4824472  0.54641672\n",
      " 0.60572704 1.         0.67629467 0.43189044 0.32231853 0.63027556\n",
      " 0.63355751 0.4186323  0.68833549 0.41932664 0.41900044 0.15944577\n",
      " 0.67236957 0.81320102 0.95283755 0.94269349 0.49941507 0.26179418\n",
      " 0.28839411 0.37559702 0.58758042 0.65839472 0.46471949 0.1000025\n",
      " 0.1884854  0.54737288 0.64639981 0.84172234 0.60110939 0.20952573\n",
      " 0.13239344 0.64869623 0.67245234 0.38324134 0.49855104 0.40506692\n",
      " 0.35432807 0.29751062 0.3006426  0.42264101 0.57225329 0.10508642\n",
      " 0.44468705 0.83441295 0.7765112  0.64990411 0.61518239 0.28309313\n",
      " 0.51226536 0.16462032 0.23170944 0.36348322 0.45192164 0.72810397\n",
      " 0.83474577 0.37757829 0.27975    0.57290752 0.41107965 0.4265855 ]\n"
     ]
    }
   ],
   "source": [
    "x_data = []\n",
    "y_data = []\n",
    "\n",
    "window_size = 10\n",
    "\n",
    "for i in range(len(x) - window_size):\n",
    "    temp = x[i:i+window_size]\n",
    "    x_data.append(temp)\n",
    "    y_data.append(x[i+window_size])\n",
    "    \n",
    "x_data = np.array(x_data)\n",
    "y_data = np.array(y_data)\n",
    "print(x_data)\n",
    "print(y_data)\n",
    "        "
   ]
  },
  {
   "cell_type": "code",
   "execution_count": 14,
   "id": "7db85156",
   "metadata": {},
   "outputs": [
    {
     "name": "stdout",
     "output_type": "stream",
     "text": [
      "(90, 10) (90,)\n"
     ]
    }
   ],
   "source": [
    "print(x_data.shape, y_data.shape)"
   ]
  },
  {
   "cell_type": "code",
   "execution_count": 19,
   "id": "c6f22637",
   "metadata": {},
   "outputs": [
    {
     "ename": "ModuleNotFoundError",
     "evalue": "No module named 'tensorflow'",
     "output_type": "error",
     "traceback": [
      "\u001b[1;31m---------------------------------------------------------------------------\u001b[0m",
      "\u001b[1;31mModuleNotFoundError\u001b[0m                       Traceback (most recent call last)",
      "\u001b[1;32m<ipython-input-19-9e22d7982bd8>\u001b[0m in \u001b[0;36m<module>\u001b[1;34m\u001b[0m\n\u001b[1;32m----> 1\u001b[1;33m \u001b[1;32mfrom\u001b[0m \u001b[0mtensorflow\u001b[0m\u001b[1;33m.\u001b[0m\u001b[0mkeras\u001b[0m\u001b[1;33m.\u001b[0m\u001b[0mmodels\u001b[0m \u001b[1;32mimport\u001b[0m \u001b[0mSequential\u001b[0m\u001b[1;33m\u001b[0m\u001b[1;33m\u001b[0m\u001b[0m\n\u001b[0m\u001b[0;32m      2\u001b[0m \u001b[0mmodel\u001b[0m \u001b[1;33m=\u001b[0m \u001b[0mSequential\u001b[0m\u001b[1;33m(\u001b[0m\u001b[1;33m)\u001b[0m\u001b[1;33m\u001b[0m\u001b[1;33m\u001b[0m\u001b[0m\n\u001b[0;32m      3\u001b[0m \u001b[0mmodel\u001b[0m\u001b[1;33m.\u001b[0m\u001b[0madd\u001b[0m\u001b[1;33m(\u001b[0m\u001b[0mLSTM\u001b[0m\u001b[1;33m(\u001b[0m\u001b[1;36m10\u001b[0m\u001b[1;33m,\u001b[0m \u001b[0mreturn_sequences\u001b[0m\u001b[1;33m=\u001b[0m\u001b[1;32mTrue\u001b[0m\u001b[1;33m,\u001b[0m \u001b[0minput_shape\u001b[0m \u001b[1;33m=\u001b[0m \u001b[1;33m(\u001b[0m\u001b[1;36m10\u001b[0m\u001b[1;33m,\u001b[0m\u001b[1;36m1\u001b[0m\u001b[1;33m)\u001b[0m\u001b[1;33m)\u001b[0m\u001b[1;33m)\u001b[0m\u001b[1;33m\u001b[0m\u001b[1;33m\u001b[0m\u001b[0m\n\u001b[0;32m      4\u001b[0m \u001b[0mmodel\u001b[0m\u001b[1;33m.\u001b[0m\u001b[0madd\u001b[0m\u001b[1;33m(\u001b[0m\u001b[0mLSTM\u001b[0m\u001b[1;33m(\u001b[0m\u001b[1;36m100\u001b[0m\u001b[1;33m)\u001b[0m\u001b[1;33m)\u001b[0m\u001b[1;33m\u001b[0m\u001b[1;33m\u001b[0m\u001b[0m\n\u001b[0;32m      5\u001b[0m \u001b[0mmodel\u001b[0m\u001b[1;33m.\u001b[0m\u001b[0madd\u001b[0m\u001b[1;33m(\u001b[0m\u001b[0mDense\u001b[0m\u001b[1;33m(\u001b[0m\u001b[1;36m50\u001b[0m\u001b[1;33m,\u001b[0m \u001b[0mactivation\u001b[0m \u001b[1;33m=\u001b[0m \u001b[1;34m'relu'\u001b[0m\u001b[1;33m)\u001b[0m\u001b[1;33m)\u001b[0m\u001b[1;33m\u001b[0m\u001b[1;33m\u001b[0m\u001b[0m\n",
      "\u001b[1;31mModuleNotFoundError\u001b[0m: No module named 'tensorflow'"
     ]
    }
   ],
   "source": [
    "from tensorflow.keras.models import Sequential\n",
    "\n",
    "model = Sequential()\n",
    "model.add(LSTM(10, return_sequences=True, input_shape = (10,1)))\n",
    "model.add(LSTM(100))\n",
    "model.add(Dense(50, activation = 'relu'))\n",
    "model.add(Dense(1, activation = 'sigmoid'))\n",
    "\n",
    "odel.summary()"
   ]
  },
  {
   "cell_type": "code",
   "execution_count": null,
   "id": "1bfadbcb",
   "metadata": {},
   "outputs": [],
   "source": []
  },
  {
   "cell_type": "code",
   "execution_count": 2,
   "id": "6d005b2e",
   "metadata": {},
   "outputs": [],
   "source": [
    "import numpy as np\n",
    "import pandas as pd\n",
    "import matplotlib.pyplot as plt"
   ]
  },
  {
   "cell_type": "code",
   "execution_count": 9,
   "id": "d4c7a010",
   "metadata": {},
   "outputs": [
    {
     "name": "stdout",
     "output_type": "stream",
     "text": [
      "데이터 길이: 92 \n",
      " 앞쪽 5개 값 [[54458.03781142]\n",
      " [56915.17393505]\n",
      " [57636.75796197]\n",
      " [57306.16626299]\n",
      " [60743.04182491]]\n"
     ]
    },
    {
     "data": {
      "image/png": "[encoded data removed]",
      "text/plain": [
       "<Figure size 432x288 with 1 Axes>"
      ]
     },
     "metadata": {
      "needs_background": "light"
     },
     "output_type": "display_data"
    }
   ],
   "source": [
    "f = open(\"BTC_USD_2021-03-10_2021-06-09-CoinDesk.csv\", 'r')\n",
    "coindesk_data = pd.read_csv(f, header = 0)\n",
    "seq = coindesk_data[['Closing Price (USD)']].to_numpy()\n",
    "print(\"데이터 길이:\", len(seq), '\\n 앞쪽 5개 값', seq[0:5])\n",
    "\n",
    "plt.plot(seq, color = 'red')\n",
    "plt.title(\"Bitcoin Prices (1 year from 2019-02-28)\")\n",
    "plt.xlabel('Days'); plt.ylabel(\"Price in USD\")\n",
    "plt.show()"
   ]
  },
  {
   "cell_type": "code",
   "execution_count": 1,
   "id": "44f875d3",
   "metadata": {},
   "outputs": [],
   "source": [
    "from tensorflow.keras.datasets import mnist"
   ]
  },
  {
   "cell_type": "code",
   "execution_count": 6,
   "id": "4ffff09b",
   "metadata": {},
   "outputs": [],
   "source": [
    "(x_data, y_data), (x_test, y_test) = mnist.load_data()"
   ]
  },
  {
   "cell_type": "code",
   "execution_count": 15,
   "id": "0f59a95b",
   "metadata": {},
   "outputs": [],
   "source": [
    "from tensorflow.keras.preprocessing import sequence\n",
    "from tensorflow.keras.datasets import imdb\n",
    "from tensorflow.keras.models import Sequential\n",
    "from tensorflow.keras.layers import Dense, Flatten, Embedding, LSTM\n",
    "from tensorflow.keras import preprocessing\n",
    "from tensorflow.keras.callbacks import EarlyStopping\n",
    "\n",
    "import numpy\n",
    "import tensorflow as tf"
   ]
  },
  {
   "cell_type": "code",
   "execution_count": 24,
   "id": "fb47d780",
   "metadata": {},
   "outputs": [
    {
     "name": "stdout",
     "output_type": "stream",
     "text": [
      "(60000, 28, 28) (10000, 28, 28)\n",
      "Model: \"sequential_5\"\n",
      "_________________________________________________________________\n",
      "Layer (type)                 Output Shape              Param #   \n",
      "=================================================================\n",
      "lstm_4 (LSTM)                (None, 15)                2640      \n",
      "_________________________________________________________________\n",
      "dense_6 (Dense)              (None, 3)                 48        \n",
      "_________________________________________________________________\n",
      "dense_7 (Dense)              (None, 1)                 4         \n",
      "=================================================================\n",
      "Total params: 2,692\n",
      "Trainable params: 2,692\n",
      "Non-trainable params: 0\n",
      "_________________________________________________________________\n"
     ]
    }
   ],
   "source": [
    "print(x_data.shape, x_test.shape)\n",
    "\n",
    "\n",
    "early = EarlyStopping(monitor = \"val_accuracy\", patience = 5)\n",
    "4000,28,28 -> 28,28,16\n",
    "#모델설계\n",
    "model = Sequential()\n",
    "model.add(LSTM(15, input_shape=(28,28)))\n",
    "model.add(Dense(3, activation = 'relu'))\n",
    "model.add(Dense(1, activation = 'sigmoid'))\n",
    "model.summary()"
   ]
  },
  {
   "cell_type": "code",
   "execution_count": 25,
   "id": "21575178",
   "metadata": {},
   "outputs": [
    {
     "name": "stdout",
     "output_type": "stream",
     "text": [
      "Epoch 1/20\n",
      "WARNING:tensorflow:Early stopping conditioned on metric `val_accuracy` which is not available. Available metrics are: loss,accuracy\n",
      "938/938 - 28s - loss: -1.0165e+02 - accuracy: 0.1111\n",
      "Epoch 2/20\n",
      "WARNING:tensorflow:Early stopping conditioned on metric `val_accuracy` which is not available. Available metrics are: loss,accuracy\n",
      "938/938 - 26s - loss: -3.9336e+02 - accuracy: 0.1124\n",
      "Epoch 3/20\n",
      "WARNING:tensorflow:Early stopping conditioned on metric `val_accuracy` which is not available. Available metrics are: loss,accuracy\n",
      "938/938 - 13s - loss: -8.4302e+02 - accuracy: 0.1124\n",
      "Epoch 4/20\n",
      "WARNING:tensorflow:Early stopping conditioned on metric `val_accuracy` which is not available. Available metrics are: loss,accuracy\n",
      "938/938 - 16s - loss: -1.4329e+03 - accuracy: 0.1124\n",
      "Epoch 5/20\n",
      "WARNING:tensorflow:Early stopping conditioned on metric `val_accuracy` which is not available. Available metrics are: loss,accuracy\n",
      "938/938 - 18s - loss: -2.1474e+03 - accuracy: 0.1124\n",
      "Epoch 6/20\n",
      "WARNING:tensorflow:Early stopping conditioned on metric `val_accuracy` which is not available. Available metrics are: loss,accuracy\n",
      "938/938 - 18s - loss: -2.9781e+03 - accuracy: 0.1124\n",
      "Epoch 7/20\n",
      "WARNING:tensorflow:Early stopping conditioned on metric `val_accuracy` which is not available. Available metrics are: loss,accuracy\n",
      "938/938 - 18s - loss: -3.9188e+03 - accuracy: 0.1124\n",
      "Epoch 8/20\n",
      "WARNING:tensorflow:Early stopping conditioned on metric `val_accuracy` which is not available. Available metrics are: loss,accuracy\n",
      "938/938 - 18s - loss: -4.9674e+03 - accuracy: 0.1124\n",
      "Epoch 9/20\n",
      "WARNING:tensorflow:Early stopping conditioned on metric `val_accuracy` which is not available. Available metrics are: loss,accuracy\n",
      "938/938 - 18s - loss: -6.1222e+03 - accuracy: 0.1124\n",
      "Epoch 10/20\n",
      "WARNING:tensorflow:Early stopping conditioned on metric `val_accuracy` which is not available. Available metrics are: loss,accuracy\n",
      "938/938 - 18s - loss: -7.3818e+03 - accuracy: 0.1124\n",
      "Epoch 11/20\n",
      "WARNING:tensorflow:Early stopping conditioned on metric `val_accuracy` which is not available. Available metrics are: loss,accuracy\n",
      "938/938 - 18s - loss: -8.7452e+03 - accuracy: 0.1124\n",
      "Epoch 12/20\n",
      "WARNING:tensorflow:Early stopping conditioned on metric `val_accuracy` which is not available. Available metrics are: loss,accuracy\n",
      "938/938 - 18s - loss: -1.0211e+04 - accuracy: 0.1124\n",
      "Epoch 13/20\n",
      "WARNING:tensorflow:Early stopping conditioned on metric `val_accuracy` which is not available. Available metrics are: loss,accuracy\n",
      "938/938 - 18s - loss: -1.1783e+04 - accuracy: 0.1124\n",
      "Epoch 14/20\n",
      "WARNING:tensorflow:Early stopping conditioned on metric `val_accuracy` which is not available. Available metrics are: loss,accuracy\n",
      "938/938 - 18s - loss: -1.3459e+04 - accuracy: 0.1124\n",
      "Epoch 15/20\n",
      "WARNING:tensorflow:Early stopping conditioned on metric `val_accuracy` which is not available. Available metrics are: loss,accuracy\n",
      "938/938 - 18s - loss: -1.5236e+04 - accuracy: 0.1124\n",
      "Epoch 16/20\n",
      "WARNING:tensorflow:Early stopping conditioned on metric `val_accuracy` which is not available. Available metrics are: loss,accuracy\n",
      "938/938 - 15s - loss: -1.7115e+04 - accuracy: 0.1124\n",
      "Epoch 17/20\n",
      "WARNING:tensorflow:Early stopping conditioned on metric `val_accuracy` which is not available. Available metrics are: loss,accuracy\n",
      "938/938 - 18s - loss: -1.9104e+04 - accuracy: 0.1124\n",
      "Epoch 18/20\n",
      "WARNING:tensorflow:Early stopping conditioned on metric `val_accuracy` which is not available. Available metrics are: loss,accuracy\n",
      "938/938 - 251s - loss: -2.1199e+04 - accuracy: 0.1124\n",
      "Epoch 19/20\n",
      "WARNING:tensorflow:Early stopping conditioned on metric `val_accuracy` which is not available. Available metrics are: loss,accuracy\n",
      "938/938 - 6s - loss: -2.3399e+04 - accuracy: 0.1124\n",
      "Epoch 20/20\n",
      "WARNING:tensorflow:Early stopping conditioned on metric `val_accuracy` which is not available. Available metrics are: loss,accuracy\n",
      "938/938 - 6s - loss: -2.5826e+04 - accuracy: 0.1182\n"
     ]
    }
   ],
   "source": [
    "# 모델학습\n",
    "model.compile(loss='binary_crossentropy', optimizer = 'Adam', metrics = ['accuracy'])\n",
    "his = model.fit(x_data, y_data, epochs = 20, batch_size = 64, verbose = 2, callbacks = [early])"
   ]
  },
  {
   "cell_type": "code",
   "execution_count": 26,
   "id": "046bec3f",
   "metadata": {},
   "outputs": [
    {
     "name": "stdout",
     "output_type": "stream",
     "text": [
      "정확률은 12.210000306367874\n"
     ]
    }
   ],
   "source": [
    "#모델 평가\n",
    "res = model.evaluate(x_test, y_test, verbose = 0)\n",
    "print(\"정확률은\", res[1]*100)\n",
    "\n",
    "import matplotlib.pyplot as plt"
   ]
  },
  {
   "cell_type": "code",
   "execution_count": 27,
   "id": "6f956953",
   "metadata": {},
   "outputs": [
    {
     "ename": "KeyError",
     "evalue": "'val_accuracy'",
     "output_type": "error",
     "traceback": [
      "\u001b[1;31m---------------------------------------------------------------------------\u001b[0m",
      "\u001b[1;31mKeyError\u001b[0m                                  Traceback (most recent call last)",
      "\u001b[1;32m<ipython-input-27-d9dbf893252a>\u001b[0m in \u001b[0;36m<module>\u001b[1;34m\u001b[0m\n\u001b[0;32m      1\u001b[0m \u001b[0mplt\u001b[0m\u001b[1;33m.\u001b[0m\u001b[0mplot\u001b[0m\u001b[1;33m(\u001b[0m\u001b[0mhis\u001b[0m\u001b[1;33m.\u001b[0m\u001b[0mhistory\u001b[0m\u001b[1;33m[\u001b[0m\u001b[1;34m'accuracy'\u001b[0m\u001b[1;33m]\u001b[0m\u001b[1;33m)\u001b[0m\u001b[1;33m\u001b[0m\u001b[1;33m\u001b[0m\u001b[0m\n\u001b[1;32m----> 2\u001b[1;33m \u001b[0mplt\u001b[0m\u001b[1;33m.\u001b[0m\u001b[0mplot\u001b[0m\u001b[1;33m(\u001b[0m\u001b[0mhis\u001b[0m\u001b[1;33m.\u001b[0m\u001b[0mhistory\u001b[0m\u001b[1;33m[\u001b[0m\u001b[1;34m'val_accuracy'\u001b[0m\u001b[1;33m]\u001b[0m\u001b[1;33m)\u001b[0m\u001b[1;33m\u001b[0m\u001b[1;33m\u001b[0m\u001b[0m\n\u001b[0m\u001b[0;32m      3\u001b[0m \u001b[0mplt\u001b[0m\u001b[1;33m.\u001b[0m\u001b[0mtitle\u001b[0m\u001b[1;33m(\u001b[0m\u001b[1;34m\"Model accuracy\"\u001b[0m\u001b[1;33m)\u001b[0m\u001b[1;33m\u001b[0m\u001b[1;33m\u001b[0m\u001b[0m\n\u001b[0;32m      4\u001b[0m \u001b[0mplt\u001b[0m\u001b[1;33m.\u001b[0m\u001b[0mylabel\u001b[0m\u001b[1;33m(\u001b[0m\u001b[1;34m\"Accuracy\"\u001b[0m\u001b[1;33m)\u001b[0m\u001b[1;33m\u001b[0m\u001b[1;33m\u001b[0m\u001b[0m\n\u001b[0;32m      5\u001b[0m \u001b[0mplt\u001b[0m\u001b[1;33m.\u001b[0m\u001b[0mxlabel\u001b[0m\u001b[1;33m(\u001b[0m\u001b[1;34m\"Epoch\"\u001b[0m\u001b[1;33m)\u001b[0m\u001b[1;33m\u001b[0m\u001b[1;33m\u001b[0m\u001b[0m\n",
      "\u001b[1;31mKeyError\u001b[0m: 'val_accuracy'"
     ]
    },
    {
     "data": {
      "image/png": "[encoded data removed]",
      "text/plain": [
       "<Figure size 432x288 with 1 Axes>"
      ]
     },
     "metadata": {
      "needs_background": "light"
     },
     "output_type": "display_data"
    }
   ],
   "source": [
    "plt.plot(his.history['accuracy'])\n",
    "plt.plot(his.history['val_accuracy'])\n",
    "plt.title(\"Model accuracy\")\n",
    "plt.ylabel(\"Accuracy\")\n",
    "plt.xlabel(\"Epoch\")\n",
    "plt.legend(['Train', 'Validation'], loc = 'best')\n",
    "plt.grid()\n",
    "plt.show()"
   ]
  },
  {
   "cell_type": "code",
   "execution_count": null,
   "id": "2ad4d643",
   "metadata": {},
   "outputs": [],
   "source": []
  }
 ],
 "metadata": {
  "kernelspec": {
   "display_name": "Python 3",
   "language": "python",
   "name": "python3"
  },
  "language_info": {
   "codemirror_mode": {
    "name": "ipython",
    "version": 3
   },
   "file_extension": ".py",
   "mimetype": "text/x-python",
   "name": "python",
   "nbconvert_exporter": "python",
   "pygments_lexer": "ipython3",
   "version": "3.8.10"
  }
 },
 "nbformat": 4,
 "nbformat_minor": 5
}
